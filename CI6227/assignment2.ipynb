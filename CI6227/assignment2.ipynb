{
 "cells": [
  {
   "cell_type": "code",
   "execution_count": 26,
   "metadata": {},
   "outputs": [],
   "source": [
    "import numpy as np\n",
    "import matplotlib.pyplot as plt\n",
    "import pandas as pd\n",
    "from apyori import apriori"
   ]
  },
  {
   "cell_type": "code",
   "execution_count": 38,
   "metadata": {},
   "outputs": [],
   "source": [
    "import pickle\n",
    "with open('data1.pkl', 'rb') as f:\n",
    "    records = pickle.load(f)"
   ]
  },
  {
   "cell_type": "code",
   "execution_count": 48,
   "metadata": {},
   "outputs": [
    {
     "data": {
      "text/plain": [
       "[['Mobile', 'Mobile_Cover', 'Mobile_Charger'],\n",
       " ['Mobile', 'Earphones', 'Screen'],\n",
       " ['PC', 'PC_bag', 'Mouse', 'PC_desk'],\n",
       " ['HDD', 'Mobile_Charger', 'Earphones'],\n",
       " ['Mobile', 'Mobile_Cover', 'Screen'],\n",
       " ['PC', 'HDD'],\n",
       " ['PC_desk', 'Mouse', 'Mobile_Charger'],\n",
       " ['Mobile', 'Mobile_Cover'],\n",
       " ['PC', 'PC_bag'],\n",
       " ['Mobile_Cover', 'Screen'],\n",
       " ['Mobile', 'Earphones', 'Screen'],\n",
       " ['PC', 'Mouse'],\n",
       " ['PC', 'Mobile', 'Mobile_Charger'],\n",
       " ['Mobile', 'PC'],\n",
       " ['HDD', 'Earphones'],\n",
       " ['PC', 'Screen'],\n",
       " ['Mobile', 'PC', 'PC_bag'],\n",
       " ['Mobile', 'Earphones'],\n",
       " ['Mobile', 'HDD'],\n",
       " ['PC_bag', 'Mouse']]"
      ]
     },
     "execution_count": 48,
     "metadata": {},
     "output_type": "execute_result"
    }
   ],
   "source": [
    "records"
   ]
  },
  {
   "cell_type": "code",
   "execution_count": 49,
   "metadata": {},
   "outputs": [],
   "source": [
    "l_records = len(records)\n",
    "records1 = records[:int(l_records*0.25)].copy()\n",
    "records2 = records[:int(l_records*0.5)].copy()\n",
    "records3 = records[:int(l_records*0.75)].copy()\n",
    "records4 = records[:].copy()"
   ]
  },
  {
   "cell_type": "markdown",
   "metadata": {},
   "source": [
    "### Applying Apriori"
   ]
  },
  {
   "cell_type": "code",
   "execution_count": 50,
   "metadata": {},
   "outputs": [],
   "source": [
    "import time\n",
    "def record_timing(records):\n",
    "    start_time = time.time()\n",
    "    association_rules = apriori(records, min_support=0.0045, min_confidence=0.2, min_lift=0, min_length=2)\n",
    "    association_results = list(association_rules)\n",
    "    return time.time()-start_time"
   ]
  },
  {
   "cell_type": "code",
   "execution_count": 51,
   "metadata": {},
   "outputs": [
    {
     "name": "stdout",
     "output_type": "stream",
     "text": [
      "[0.0009987354278564453, 0.0009996891021728516, 0.001001596450805664, 0.0009989738464355469]\n"
     ]
    }
   ],
   "source": [
    "percentile_time = [record_timing(records1),\n",
    "                   record_timing(records2),\n",
    "                   record_timing(records3),\n",
    "                   record_timing(records4)]\n",
    "print(percentile_time)"
   ]
  },
  {
   "cell_type": "code",
   "execution_count": 52,
   "metadata": {},
   "outputs": [
    {
     "data": {
      "text/plain": [
       "4049.1425219102125"
      ]
     },
     "execution_count": 52,
     "metadata": {},
     "output_type": "execute_result"
    }
   ],
   "source": [
    "np.mean([4.0578, 4.0343, 4.0626, 4.0378])/np.mean(percentile_time)"
   ]
  },
  {
   "cell_type": "code",
   "execution_count": 53,
   "metadata": {},
   "outputs": [],
   "source": [
    "brute_time = [4.0578, 4.0343, 4.0626, 4.0378]\n",
    "brute_time = [i*0.1 for i in brute_time]"
   ]
  },
  {
   "cell_type": "code",
   "execution_count": 54,
   "metadata": {
    "scrolled": true
   },
   "outputs": [
    {
     "data": {
      "text/plain": [
       "Text(0.5, 0, 'dataset percentile')"
      ]
     },
     "execution_count": 54,
     "metadata": {},
     "output_type": "execute_result"
    },
    {
     "data": {
      "image/png": "[encoded data removed]",
      "text/plain": [
       "<Figure size 432x288 with 2 Axes>"
      ]
     },
     "metadata": {
      "needs_background": "light"
     },
     "output_type": "display_data"
    }
   ],
   "source": [
    "# fig = plt.figure()\n",
    "# ax1 = fig.add_subplot(111)\n",
    "plt.plot(np.arange(1, 5), percentile_time, marker='o', linestyle='--', color='r', label='Square')\n",
    "plt.ylabel('apriori time (s)')\n",
    "plt.xlabel('dataset percentile')\n",
    "# plt.title(\"brute-apriori plot\")\n",
    "\n",
    "plt.twinx()\n",
    "plt.plot(np.arange(1, 5), brute_time, marker='o', linestyle='--', color='b', label='Square')\n",
    "plt.ylabel('brute time (10ms)')\n",
    "plt.xlabel('dataset percentile')\n",
    "         \n",
    "# plt.plot(np.arange(1, 5), percentile_time, marker='o', linestyle='--', color='r', label='Square')\n",
    "# plt.plot(np.arange(1, 5), brute_time, marker='o', linestyle='--', color='b', label='Square')\n",
    "# plt.xlabel('datatset percentile (%)')\n",
    "# plt.ylabel('time slapsed (s)')"
   ]
  },
  {
   "cell_type": "code",
   "execution_count": 25,
   "metadata": {},
   "outputs": [],
   "source": [
    "association_rules = apriori(records, min_support=0.0045, min_confidence=0.2, min_lift=0, min_length=2)\n",
    "association_results = list(association_rules)"
   ]
  },
  {
   "cell_type": "code",
   "execution_count": 78,
   "metadata": {
    "scrolled": false
   },
   "outputs": [
    {
     "data": {
      "text/plain": [
       "RelationRecord(items=frozenset({'Earphones'}), support=0.25, ordered_statistics=[OrderedStatistic(items_base=frozenset(), items_add=frozenset({'Earphones'}), confidence=0.25, lift=1.0)])"
      ]
     },
     "execution_count": 78,
     "metadata": {},
     "output_type": "execute_result"
    }
   ],
   "source": [
    "association_results[0]"
   ]
  },
  {
   "cell_type": "code",
   "execution_count": 79,
   "metadata": {},
   "outputs": [
    {
     "name": "stdout",
     "output_type": "stream",
     "text": [
      "['Earphones']\n",
      "['HDD']\n",
      "['Mobile']\n",
      "['Mobile_Charger']\n",
      "['Mobile_Cover']\n",
      "['Mouse']\n",
      "['PC']\n",
      "['PC_bag']\n",
      "['Screen']\n",
      "['Earphones', 'HDD']\n",
      "['Earphones', 'Mobile']\n",
      "['Earphones', 'Mobile_Charger']\n",
      "['Earphones', 'Screen']\n",
      "['HDD', 'Mobile']\n",
      "['Mobile_Charger', 'HDD']\n",
      "['HDD', 'PC']\n",
      "['Mobile_Charger', 'Mobile']\n",
      "['Mobile_Cover', 'Mobile']\n",
      "['Mobile', 'PC']\n",
      "['Mobile', 'PC_bag']\n",
      "['Mobile', 'Screen']\n",
      "['Mobile_Charger', 'Mobile_Cover']\n",
      "['Mobile_Charger', 'Mouse']\n",
      "['Mobile_Charger', 'PC']\n",
      "['Mobile_Charger', 'PC_desk']\n",
      "['Mobile_Cover', 'Screen']\n",
      "['PC', 'Mouse']\n",
      "['PC_bag', 'Mouse']\n",
      "['PC_desk', 'Mouse']\n",
      "['PC_bag', 'PC']\n",
      "['PC_desk', 'PC']\n",
      "['Screen', 'PC']\n",
      "['PC_desk', 'PC_bag']\n",
      "['Earphones', 'HDD', 'Mobile_Charger']\n",
      "['Earphones', 'Mobile', 'Screen']\n",
      "['Mobile_Charger', 'Mobile_Cover', 'Mobile']\n",
      "['Mobile_Charger', 'Mobile', 'PC']\n",
      "['Mobile_Cover', 'Mobile', 'Screen']\n",
      "['PC_bag', 'Mobile', 'PC']\n",
      "['Mobile_Charger', 'PC_desk', 'Mouse']\n",
      "['PC_bag', 'PC', 'Mouse']\n",
      "['PC_desk', 'PC', 'Mouse']\n",
      "['PC_bag', 'PC_desk', 'Mouse']\n",
      "['PC_bag', 'PC_desk', 'PC']\n",
      "['PC_bag', 'PC_desk', 'PC', 'Mouse']\n"
     ]
    }
   ],
   "source": [
    "for item in association_results:\n",
    "    # first index of the inner list\n",
    "    # Contains base item and add item\n",
    "    pair = item[0] \n",
    "    items = [x for x in pair]\n",
    "    print(items)\n",
    "#     print(\"Rule: \" + items[0] + \" -> \" + items[1])\n",
    "\n",
    "#     #second index of the inner list\n",
    "#     print(\"Support: \" + str(item[1]))\n",
    "\n",
    "#     #third index of the list located at 0th\n",
    "#     #of the third index of the inner list\n",
    "\n",
    "#     print(\"Confidence: \" + str(item[2][0][2]))\n",
    "#     print(\"Lift: \" + str(item[2][0][3]))\n",
    "#     print(\"=====================================\")"
   ]
  }
 ],
 "metadata": {
  "kernelspec": {
   "display_name": "Python 3.7.6 64-bit ('base': conda)",
   "language": "python",
   "name": "python37664bitbaseconda98cbeb4abf0f411e89fea265ed04cacf"
  },
  "language_info": {
   "codemirror_mode": {
    "name": "ipython",
    "version": 3
   },
   "file_extension": ".py",
   "mimetype": "text/x-python",
   "name": "python",
   "nbconvert_exporter": "python",
   "pygments_lexer": "ipython3",
   "version": "3.7.6"
  }
 },
 "nbformat": 4,
 "nbformat_minor": 4
}
